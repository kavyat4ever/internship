{
 "cells": [
  {
   "cell_type": "code",
   "execution_count": null,
   "metadata": {},
   "outputs": [],
   "source": [
    "import pickle\n",
    "import array as arr\n",
    "import numpy as np\n",
    "\n",
    "filename='linear_model.pkl'\n",
    "\n",
    "year = input(\"Enter year: \")\n",
    "quarter = input(\"Enter quarter: \")\n",
    "sales = input(\"Enter sales: \")\n",
    "\n",
    "input_arr = [[year,quarter,sales]]\n",
    "\n",
    "#load the model from disk\n",
    "model = pickle.load(open(filename, 'rb'))\n",
    "res = model.predict(np.array(input_arr,dtype='float64'))\n",
    "print(\"percentage change: \",res)"
   ]
  }
 ],
 "metadata": {
  "kernelspec": {
   "display_name": "Python 3",
   "language": "python",
   "name": "python3"
  },
  "language_info": {
   "codemirror_mode": {
    "name": "ipython",
    "version": 3
   },
   "file_extension": ".py",
   "mimetype": "text/x-python",
   "name": "python",
   "nbconvert_exporter": "python",
   "pygments_lexer": "ipython3",
   "version": "3.7.1"
  }
 },
 "nbformat": 4,
 "nbformat_minor": 2
}
